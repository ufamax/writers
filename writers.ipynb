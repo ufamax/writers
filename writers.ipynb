{
  "nbformat": 4,
  "nbformat_minor": 0,
  "metadata": {
    "colab": {
      "name": "writers",
      "provenance": [],
      "collapsed_sections": []
    },
    "kernelspec": {
      "name": "python3",
      "display_name": "Python 3"
    },
    "language_info": {
      "name": "python"
    },
    "accelerator": "GPU"
  },
  "cells": [
    {
      "cell_type": "markdown",
      "metadata": {
        "id": "OpbEnstcpIpW"
      },
      "source": [
        "#Распознаем писателей с помощью простой Dense сети без фильтрации данных"
      ]
    },
    {
      "cell_type": "markdown",
      "metadata": {
        "id": "eLflg44avUkq"
      },
      "source": [
        "**импорт библиотек**\n"
      ]
    },
    {
      "cell_type": "code",
      "metadata": {
        "id": "Lk7nOpTGn7ax"
      },
      "source": [
        "from google.colab import files # работа с файлами\n",
        "import numpy as np # работа с массивами numpy\n",
        "import pandas as pd # работа с датафреймами\n",
        "import matplotlib.pyplot as plt # вывод графиков\n",
        "import os   # файловая система\n",
        "import glob # файловая система\n",
        "%matplotlib inline\n",
        "\n",
        "from tensorflow.keras import utils # перевод значений в категориальные\n",
        "from tensorflow.keras.models import Sequential # последовательная модель сети\n",
        "from tensorflow.keras.optimizers import Adam # оптимайзер Adam\n",
        "from tensorflow.keras.layers import Dense, Dropout, SpatialDropout1D, BatchNormalization, Embedding, Flatten, Activation # слои сети\n",
        "from tensorflow.keras.preprocessing.text import Tokenizer # преобразование текстов в последовательности\n",
        "from tensorflow.keras.preprocessing.sequence import pad_sequences # работа с последовательностями\n",
        "from tensorflow.keras.callbacks import ModelCheckpoint # для сохранения весов на эпохах\n",
        "\n",
        "from sklearn.preprocessing import LabelEncoder # кодирование текстовых меток\n",
        "from sklearn.model_selection import train_test_split # разделение на выборки\n",
        "from google.colab import drive # работа с гугл диском\n",
        "import random # для генерации случайных чисел\n",
        "#import time # работа с системным временем\n",
        "#import seaborn as sns # вывод графики\n",
        "#sns.set_style('darkgrid') # стиль графиков"
      ],
      "execution_count": 1,
      "outputs": []
    },
    {
      "cell_type": "markdown",
      "metadata": {
        "id": "L7fs7O3MDAjk"
      },
      "source": [
        "**загрузка данных**"
      ]
    },
    {
      "cell_type": "code",
      "metadata": {
        "id": "18-pOOv-BFxJ",
        "colab": {
          "base_uri": "https://localhost:8080/"
        },
        "outputId": "7f213021-74cc-4307-cc6b-3c9663ab0d35"
      },
      "source": [
        "# удаляем папку /content/texts если существует\n",
        "!rm -R /content/texts\n",
        "# загрузим в окружение свои файлы для распознавания \n",
        "!wget 'http://m.ric.media/nu/Тексты писателей.zip'\n",
        "# распаковываем тексты в папку /content/texts\n",
        "!unzip -q -o 'Тексты писателей.zip' -d '/content/texts'\n",
        "# просмотр содержимого каталогов\n",
        "!ls\n",
        "!ls '/content/texts'"
      ],
      "execution_count": 2,
      "outputs": [
        {
          "output_type": "stream",
          "name": "stdout",
          "text": [
            "rm: cannot remove '/content/texts': No such file or directory\n",
            "--2021-11-21 19:44:44--  http://m.ric.media/nu/%D0%A2%D0%B5%D0%BA%D1%81%D1%82%D1%8B%20%D0%BF%D0%B8%D1%81%D0%B0%D1%82%D0%B5%D0%BB%D0%B5%D0%B9.zip\n",
            "Resolving m.ric.media (m.ric.media)... 176.213.150.19\n",
            "Connecting to m.ric.media (m.ric.media)|176.213.150.19|:80... connected.\n",
            "HTTP request sent, awaiting response... 200 OK\n",
            "Length: 7548513 (7.2M) [application/zip]\n",
            "Saving to: ‘Тексты писателей.zip’\n",
            "\n",
            "Тексты писателей.zi 100%[===================>]   7.20M  2.95MB/s    in 2.4s    \n",
            "\n",
            "2021-11-21 19:44:47 (2.95 MB/s) - ‘Тексты писателей.zip’ saved [7548513/7548513]\n",
            "\n",
            " sample_data   texts  'Тексты писателей.zip'\n",
            "'(Булгаков) Обучающая_5 вместе.txt'\n",
            "'(Булгаков) Тестовая_2 вместе.txt'\n",
            "'(Клиффорд_Саймак) Обучающая_5 вместе.txt'\n",
            "'(Клиффорд_Саймак) Тестовая_2 вместе.txt'\n",
            "'(Макс Фрай) Обучающая_5 вместе.txt'\n",
            "'(Макс Фрай) Тестовая_2 вместе.txt'\n",
            "'(О. Генри) Обучающая_50 вместе.txt'\n",
            "'(О. Генри) Тестовая_20 вместе.txt'\n",
            "'(Рэй Брэдберри) Обучающая_22 вместе.txt'\n",
            "'(Рэй Брэдберри) Тестовая_8 вместе.txt'\n",
            "'(Стругацкие) Обучающая_5 вместе.txt'\n",
            "'(Стругацкие) Тестовая_2 вместе.txt'\n"
          ]
        }
      ]
    },
    {
      "cell_type": "code",
      "metadata": {
        "id": "AMbjxKiPPkwK",
        "colab": {
          "base_uri": "https://localhost:8080/"
        },
        "outputId": "2e6220de-ebcd-46ce-a357-54a10b111558"
      },
      "source": [
        "# функция чтения файла с текстом\n",
        "def readText(filename):\n",
        "  with open(filename, 'r') as f:  # открыть файл\n",
        "    text = f.read()               # прочитать в переменную text\n",
        "  text = text.replace('\\n', '')   # заменим переносы строк на пробелы\n",
        "  return text\n",
        "\n",
        "# объявляем классы\n",
        "className = ['Брэдберри', 'Булгаков', 'О. Генри', 'Саймак', 'Стругацкие', 'Фрай']\n",
        "# выводим количество классов\n",
        "print('Количество классов:', len(className))"
      ],
      "execution_count": 3,
      "outputs": [
        {
          "output_type": "stream",
          "name": "stdout",
          "text": [
            "Количество классов: 6\n"
          ]
        }
      ]
    },
    {
      "cell_type": "code",
      "metadata": {
        "id": "PKfRAMtiam-E",
        "colab": {
          "base_uri": "https://localhost:8080/"
        },
        "outputId": "e546e6bd-e6e3-4c8a-b345-6f8308405a60"
      },
      "source": [
        "trainText = [] # обучающая выборка списком классов (все тексты)\n",
        "testText  = [] # тестовая выборка списокм классов (все тексты)\n",
        "for cl in className: # проходим по именам классов\n",
        "  # перебираем все обучающие этого класса\n",
        "  for fname in glob.glob('/content/texts/*'+cl+'*Обучающая*.txt'):\n",
        "    trainText.append(readText(fname)) # читаем очередной файл Писатель+Обучающая\n",
        "    print('Обучающая выборка:', fname)\n",
        "  # перебираем все тестовые этого класса\n",
        "  for fname in glob.glob('/content/texts/*'+cl+'*Тестовая*.txt'):\n",
        "    testText.append(readText(fname)) # читаем очередной файл Писатель+Тестовая\n",
        "    print('Тестовая выборка:', fname, '\\n')\n",
        "\n",
        "# выводим количество классов\n",
        "print('Загружено файлов в обучающей выборке:', len(trainText))\n",
        "print('Загружено файлов в тестовой выборке:', len(testText))"
      ],
      "execution_count": 4,
      "outputs": [
        {
          "output_type": "stream",
          "name": "stdout",
          "text": [
            "Обучающая выборка: /content/texts/(Рэй Брэдберри) Обучающая_22 вместе.txt\n",
            "Тестовая выборка: /content/texts/(Рэй Брэдберри) Тестовая_8 вместе.txt \n",
            "\n",
            "Обучающая выборка: /content/texts/(Булгаков) Обучающая_5 вместе.txt\n",
            "Тестовая выборка: /content/texts/(Булгаков) Тестовая_2 вместе.txt \n",
            "\n",
            "Обучающая выборка: /content/texts/(О. Генри) Обучающая_50 вместе.txt\n",
            "Тестовая выборка: /content/texts/(О. Генри) Тестовая_20 вместе.txt \n",
            "\n",
            "Обучающая выборка: /content/texts/(Клиффорд_Саймак) Обучающая_5 вместе.txt\n",
            "Тестовая выборка: /content/texts/(Клиффорд_Саймак) Тестовая_2 вместе.txt \n",
            "\n",
            "Обучающая выборка: /content/texts/(Стругацкие) Обучающая_5 вместе.txt\n",
            "Тестовая выборка: /content/texts/(Стругацкие) Тестовая_2 вместе.txt \n",
            "\n",
            "Обучающая выборка: /content/texts/(Макс Фрай) Обучающая_5 вместе.txt\n",
            "Тестовая выборка: /content/texts/(Макс Фрай) Тестовая_2 вместе.txt \n",
            "\n",
            "Загружено файлов в обучающей выборке: 6\n",
            "Загружено файлов в тестовой выборке: 6\n"
          ]
        }
      ]
    },
    {
      "cell_type": "markdown",
      "metadata": {
        "id": "83jWPvVIWNbo"
      },
      "source": [
        "### Функции формирования выборок"
      ]
    },
    {
      "cell_type": "code",
      "metadata": {
        "id": "HkVWBOE1PJ5l"
      },
      "source": [
        "# напишем функцию возвращающую два набора X и Y из одного (возвращаем окна размером xLen с шагом step)\n",
        "def split_word_indexes(wordIndexes, xLen, step):\n",
        "  '''\n",
        "  split_word_indexes - функция создания выборок X и Y из общего списка с текстами\n",
        "  вход:\n",
        "    wordIndexes - общий список (один класс на элемент, класс соотв. индексу элемента)\n",
        "    xLen - длина окна\n",
        "    step - шаг смещения окна\n",
        "  выход:\n",
        "    x - обучающая выборка\n",
        "    y - тестовая выборка\n",
        "  '''\n",
        "  # инициализируем выборки\n",
        "  x = [] \n",
        "  y = []\n",
        "  wordIndexesLen = len(wordIndexes) # количество классов\n",
        "  for classInd, wordsList in enumerate(wordIndexes): # проходим по классам\n",
        "    StartPos = 0 # для каждого класса окно возвращаем на стартовую позицию\n",
        "    wordsLen = len(wordsList) # количество индексов(слов) в очередном классе\n",
        "    while StartPos + xLen <= wordsLen: # пока позиция окна+длина окна <= длине всего списка слов\n",
        "      x.append(wordsList[StartPos:StartPos+xLen])               # добавим содержимое окна в выборку\n",
        "      y.append(utils.to_categorical(classInd, wordIndexesLen))  # добавим номер класса в выборку в формате One-Hot Encoding\n",
        "      StartPos += step # сдвигаем окно дальше на размер шага\n",
        "  x = pad_sequences(x, xLen) # выравниваем обучающую выборку так чтобы последнее окно было равно требуемому xLen \n",
        "  x = np.array(x) # переводим в формат numpy массива\n",
        "  y = np.array(y) # переводим в формат numpy массива\n",
        "  return (x, y)"
      ],
      "execution_count": 5,
      "outputs": []
    },
    {
      "cell_type": "markdown",
      "metadata": {
        "id": "1yw4YKdlCZe2"
      },
      "source": [
        "### Создание обучающей и проверочной выборок"
      ]
    },
    {
      "cell_type": "code",
      "metadata": {
        "id": "UWpsF7DQJl68"
      },
      "source": [
        "# задаем параметры\n",
        "maxWordsCount = 25000 # размер словаря # 20000\n",
        "xLen = 2600 # размер окна в словах для распознавания # 1000\n",
        "step = 150  # шаг смещения при формировании окна # 100\n",
        "nClasses = len(testText) # количество классов\n",
        "\n",
        "# создаем токенайзер и обучаем его\n",
        "tokenizer = Tokenizer(num_words=maxWordsCount, # количество слов для словаря\n",
        "                      filters='!\"#$%&()*+,-–—./…:;<=>?@[\\\\]^_`{|}~«»\\t\\n\\xa0\\ufeff', # фильтр текста\n",
        "                      lower=True, # нижний регистр\n",
        "                      split=' ', # разделить пробелом\n",
        "                      oov_token='unknown', # обозначим слова вне словаря\n",
        "                      char_level=False # токенизируем по словам\n",
        "                      )\n",
        "tokenizer.fit_on_texts(trainText) # обучаем и проходим по обучающей выборке (список текстов по классам)  \n",
        "\n",
        "# преобразуем обучающую и тестовую выборки в последовательности индексов по обученому токенайзеру и его частотному словарю\n",
        "trainWordIndexes = tokenizer.texts_to_sequences(trainText)\n",
        "testWordIndexes = tokenizer.texts_to_sequences(testText)\n",
        "\n",
        "# формируем обучающую и проверочную выборки\n",
        "xTrain, yTrain = split_word_indexes(trainWordIndexes, xLen, step) # формируем обучающую выборку\n",
        "xTest,  yTest  = split_word_indexes(testWordIndexes, xLen, step)  # формируем тестовую выборку\n",
        "\n",
        "# получим с помощью токенайзера вектора 0 и 1 для Bag of Words (последовательности в матрицу)\n",
        "xTrain01 = tokenizer.sequences_to_matrix(xTrain.tolist())\n",
        "xTest01  = tokenizer.sequences_to_matrix(xTest.tolist())"
      ],
      "execution_count": 6,
      "outputs": []
    },
    {
      "cell_type": "code",
      "metadata": {
        "id": "P7dVgsFz84FA",
        "colab": {
          "base_uri": "https://localhost:8080/"
        },
        "outputId": "28fd41da-e727-4b4d-9ed8-040735e779ef"
      },
      "source": [
        "# выведем количество примеров на класс в обучающей выборке\n",
        "y_Train = np.argmax(yTrain, axis=1) # получим список меток без One-Hot Encoding\n",
        "for i in range(nClasses): # пройдем количеством классов (писателей)\n",
        "  Labels = np.where(y_Train==i)[0] # получим индексы примеров класса i на каждом шаге\n",
        "  print(className[i], ':', len(Labels))"
      ],
      "execution_count": 7,
      "outputs": [
        {
          "output_type": "stream",
          "name": "stdout",
          "text": [
            "Брэдберри : 1412\n",
            "Булгаков : 1726\n",
            "О. Генри : 1054\n",
            "Саймак : 1659\n",
            "Стругацкие : 2069\n",
            "Фрай : 3773\n"
          ]
        }
      ]
    },
    {
      "cell_type": "markdown",
      "metadata": {
        "id": "dzJojn_q8aG7"
      },
      "source": [
        "### Создание и обучение модели"
      ]
    },
    {
      "cell_type": "code",
      "metadata": {
        "id": "nAk_EaRl8gTB",
        "colab": {
          "base_uri": "https://localhost:8080/",
          "height": 701
        },
        "outputId": "0e9ce8b8-98f4-4954-f59c-41504deeab99"
      },
      "source": [
        "# создание нейросети (последовательная модель)\n",
        "model01 = Sequential()\n",
        "\n",
        "# добавляем слои\n",
        "model01.add(Dense(300, input_dim=maxWordsCount, activation='relu')) # полносвязный слой\n",
        "model01.add(Dropout(0.9)) # слой регуляризации\n",
        "\n",
        "# model01.add(Dense(200, activation='relu')) # полносвязный слой\n",
        "# model01.add(BatchNormalization()) # слой пакетной нормализации\n",
        "# model01.add(Dense(100, activation='relu')) # полносвязный слой\n",
        "# model01.add(Dropout(0.9)) # слой регуляризации\n",
        "\n",
        "# model01.add(BatchNormalization()) # слой пакетной нормализации\n",
        "# model01.add(Dense(300, activation='relu')) # полносвязный слой\n",
        "# model01.add(Dropout(0.4)) # слой регуляризации\n",
        "\n",
        "model01.add(BatchNormalization()) # слой пакетной нормализации\n",
        "model01.add(Dense(6, activation='softmax')) # полносвязный слой\n",
        "\n",
        "# компилируем\n",
        "model01.compile(loss='categorical_crossentropy',\n",
        "                optimizer='adam',\n",
        "                metrics=['accuracy'])\n",
        "\n",
        "# отобразим данные модели\n",
        "#model01.summary()\n",
        "\n",
        "# вызов callback для сохранения весов каждой эпохи\n",
        "mc = ModelCheckpoint('weights{epoch:08d}.h5', save_weights_only=True)\n",
        "\n",
        "# обучаем модель\n",
        "print(f'\\nОбучение (maxWordsCount={maxWordsCount}, xLen={xLen}, step={step}):\\n')\n",
        "history = model01.fit(xTrain01,\n",
        "                      yTrain,\n",
        "                      epochs=10,\n",
        "                      batch_size=128,\n",
        "                      validation_data=(xTest01, yTest),\n",
        "                      callbacks=[mc])\n",
        "\n",
        "# отображаем график точности обучения\n",
        "plt.plot(history.history['accuracy'], label='Доля верных ответов на обучающем наборе')\n",
        "plt.plot(history.history['val_accuracy'], label='Доля верных ответов на проверочном наборе')\n",
        "plt.xlabel('Эпоха обучения')\n",
        "plt.ylabel('Доля верных ответов')\n",
        "plt.legend()\n",
        "plt.show()"
      ],
      "execution_count": 8,
      "outputs": [
        {
          "output_type": "stream",
          "name": "stdout",
          "text": [
            "\n",
            "Обучение (maxWordsCount=25000, xLen=2600, step=150):\n",
            "\n",
            "Epoch 1/10\n",
            "92/92 [==============================] - 4s 18ms/step - loss: 0.4746 - accuracy: 0.8874 - val_loss: 0.3729 - val_accuracy: 0.9547\n",
            "Epoch 2/10\n",
            "92/92 [==============================] - 1s 13ms/step - loss: 0.1471 - accuracy: 0.9812 - val_loss: 0.3401 - val_accuracy: 0.9495\n",
            "Epoch 3/10\n",
            "92/92 [==============================] - 1s 13ms/step - loss: 0.0863 - accuracy: 0.9897 - val_loss: 0.3028 - val_accuracy: 0.9558\n",
            "Epoch 4/10\n",
            "92/92 [==============================] - 1s 14ms/step - loss: 0.0615 - accuracy: 0.9925 - val_loss: 0.2818 - val_accuracy: 0.9522\n",
            "Epoch 5/10\n",
            "92/92 [==============================] - 1s 14ms/step - loss: 0.0473 - accuracy: 0.9937 - val_loss: 0.2492 - val_accuracy: 0.9652\n",
            "Epoch 6/10\n",
            "92/92 [==============================] - 1s 13ms/step - loss: 0.0385 - accuracy: 0.9958 - val_loss: 0.2236 - val_accuracy: 0.9627\n",
            "Epoch 7/10\n",
            "92/92 [==============================] - 1s 14ms/step - loss: 0.0348 - accuracy: 0.9947 - val_loss: 0.2187 - val_accuracy: 0.9611\n",
            "Epoch 8/10\n",
            "92/92 [==============================] - 1s 14ms/step - loss: 0.0281 - accuracy: 0.9957 - val_loss: 0.2112 - val_accuracy: 0.9602\n",
            "Epoch 9/10\n",
            "92/92 [==============================] - 1s 14ms/step - loss: 0.0263 - accuracy: 0.9957 - val_loss: 0.1976 - val_accuracy: 0.9672\n",
            "Epoch 10/10\n",
            "92/92 [==============================] - 1s 14ms/step - loss: 0.0224 - accuracy: 0.9973 - val_loss: 0.1839 - val_accuracy: 0.9658\n"
          ]
        },
        {
          "output_type": "display_data",
          "data": {
            "image/png": "[encoded data removed]",
            "text/plain": [
              "<Figure size 432x288 with 1 Axes>"
            ]
          },
          "metadata": {
            "needs_background": "light"
          }
        }
      ]
    },
    {
      "cell_type": "code",
      "metadata": {
        "id": "WFcovkoVyzJ5"
      },
      "source": [
        "# загрузим веса эпохи, которая показала лучший результат\n",
        "#model01.load_weights('weights00000004.h5')"
      ],
      "execution_count": 9,
      "outputs": []
    },
    {
      "cell_type": "code",
      "metadata": {
        "id": "thswrU-erfxB"
      },
      "source": [
        "# сохраним предварительные результаты\n",
        "model01.save('writers.h5')"
      ],
      "execution_count": 10,
      "outputs": []
    },
    {
      "cell_type": "markdown",
      "metadata": {
        "id": "NKYi65EZ9T3x"
      },
      "source": [
        "\n",
        "Дообучение (уменьшим шаг обучения)\n"
      ]
    },
    {
      "cell_type": "code",
      "metadata": {
        "id": "YOlmihh2kmyw",
        "colab": {
          "base_uri": "https://localhost:8080/"
        },
        "outputId": "ce394111-6e81-4a47-8af8-bf7fe7d64461"
      },
      "source": [
        "# компилируем\n",
        "model01.compile(loss='categorical_crossentropy',\n",
        "                optimizer=Adam(learning_rate=0.0001),\n",
        "                metrics=['accuracy'])\n",
        "\n",
        "# вызов callback для сохранения весов каждой эпохи\n",
        "mc = ModelCheckpoint('weights{epoch:08d}.h5', save_weights_only=True)\n",
        "\n",
        "# обучаем модель\n",
        "print(f'\\nОбучение (maxWordsCount={maxWordsCount}, xLen={xLen}, step={step}):\\n')\n",
        "history = model01.fit(xTrain01,\n",
        "                      yTrain,\n",
        "                      epochs=10,\n",
        "                      batch_size=128,\n",
        "                      validation_data=(xTest01, yTest),\n",
        "                      callbacks=[mc])\n"
      ],
      "execution_count": 11,
      "outputs": [
        {
          "output_type": "stream",
          "name": "stdout",
          "text": [
            "\n",
            "Обучение (maxWordsCount=25000, xLen=2600, step=150):\n",
            "\n",
            "Epoch 1/10\n",
            "92/92 [==============================] - 2s 18ms/step - loss: 0.0478 - accuracy: 0.9937 - val_loss: 0.2796 - val_accuracy: 0.9617\n",
            "Epoch 2/10\n",
            "92/92 [==============================] - 1s 14ms/step - loss: 0.0446 - accuracy: 0.9949 - val_loss: 0.2762 - val_accuracy: 0.9567\n",
            "Epoch 3/10\n",
            "92/92 [==============================] - 1s 14ms/step - loss: 0.0420 - accuracy: 0.9956 - val_loss: 0.2697 - val_accuracy: 0.9542\n",
            "Epoch 4/10\n",
            "92/92 [==============================] - 1s 13ms/step - loss: 0.0385 - accuracy: 0.9954 - val_loss: 0.2571 - val_accuracy: 0.9581\n",
            "Epoch 5/10\n",
            "92/92 [==============================] - 1s 13ms/step - loss: 0.0379 - accuracy: 0.9953 - val_loss: 0.2476 - val_accuracy: 0.9613\n",
            "Epoch 6/10\n",
            "92/92 [==============================] - 1s 14ms/step - loss: 0.0355 - accuracy: 0.9941 - val_loss: 0.2449 - val_accuracy: 0.9563\n",
            "Epoch 7/10\n",
            "92/92 [==============================] - 1s 13ms/step - loss: 0.0344 - accuracy: 0.9945 - val_loss: 0.2348 - val_accuracy: 0.9636\n",
            "Epoch 8/10\n",
            "92/92 [==============================] - 1s 14ms/step - loss: 0.0324 - accuracy: 0.9957 - val_loss: 0.2314 - val_accuracy: 0.9624\n",
            "Epoch 9/10\n",
            "92/92 [==============================] - 1s 13ms/step - loss: 0.0297 - accuracy: 0.9963 - val_loss: 0.2332 - val_accuracy: 0.9595\n",
            "Epoch 10/10\n",
            "92/92 [==============================] - 1s 14ms/step - loss: 0.0285 - accuracy: 0.9966 - val_loss: 0.2244 - val_accuracy: 0.9597\n"
          ]
        }
      ]
    },
    {
      "cell_type": "markdown",
      "metadata": {
        "id": "K34pzHnRUjmf"
      },
      "source": [
        "### Оценка точности сети"
      ]
    },
    {
      "cell_type": "code",
      "metadata": {
        "id": "aTRaVN9mUtOu",
        "colab": {
          "base_uri": "https://localhost:8080/"
        },
        "outputId": "e75dbad4-a481-4f4c-941a-d14bc3f5ca93"
      },
      "source": [
        "# оценить точность обученой сети\n",
        "# scores[0] - loss сети\n",
        "# scores[1] - процент правильно распознанных примеров\n",
        "scores = model01.evaluate(xTest01, yTest, verbose=0)  \n",
        "print('\\nПроцент верных ответов на тестовых данных: {:.2%}\\n'\\\n",
        "      .format(scores[1]))\n",
        "  \n",
        "# сформируем случайную тестовую выборку всех классов случайным образом для того чтобы убедится,\n",
        "# что все писатели распознались верно\n",
        "xTestR01 = [] # по 1 примеру для каждого класса по порядку классов\n",
        "yTestR   = [] # соответствующие метки этих классов (здесь по сути индексы классов от нуля до максимального)\n",
        "\n",
        "y_Test = np.argmax(yTest, axis=1) # получим список меток без One-Hot Encoding\n",
        "for i in range(nClasses): # пройдем количеством классов (писателей)\n",
        "  RandomLabels = np.where(y_Test==i)[0] # получим индексы примеров класса i на каждом шаге\n",
        "  RandomLabel = random.choice(RandomLabels) # выберем один индекс случайно из списка с предыдущего шага\n",
        "  xTestR01.append(xTest01[RandomLabel]) # добавим выбраный пример в случайную выборку \n",
        "  yTestR.append(yTest[RandomLabel]) # добавим его класс\n",
        "xTestR01 = np.array(xTestR01) # перевод в numpy массив\n",
        "yTestR   = np.array(yTestR)   # перевод в numpy массив\n",
        "\n",
        "# распознаем нашу случайную выборку состоящую из 1 примера на класс\n",
        "PredR = model01.predict(xTestR01) # распознаем\n",
        "PredLabels = np.argmax(PredR, axis=1) # получаем список распознаных классов\n",
        "OrigLabels = np.argmax(yTestR, axis=1) # список который должен получиться при распознавании всех писателей\n",
        "if PredLabels.tolist() == OrigLabels.tolist(): # сравним распознанный список с идеальным (если бы распознали всех писателей)\n",
        "  print('ВСЕ ПИСАТЕЛИ РАСПОЗНАНЫ ВЕРНО!\\n')\n",
        "else:\n",
        "  print('Распознано верно писателей: {} ({:0.2%})'\\\n",
        "        .format(len([i for i in range(nClasses) if PredLabels[i]==np.argmax(yTestR[i])]),\n",
        "                len([i for i in range(nClasses) if PredLabels[i]==np.argmax(yTestR[i])]) / nClasses))\n",
        "  "
      ],
      "execution_count": 13,
      "outputs": [
        {
          "output_type": "stream",
          "name": "stdout",
          "text": [
            "\n",
            "Процент верных ответов на тестовых данных: 95.97%\n",
            "\n",
            "ВСЕ ПИСАТЕЛИ РАСПОЗНАНЫ ВЕРНО!\n",
            "\n"
          ]
        }
      ]
    },
    {
      "cell_type": "code",
      "metadata": {
        "id": "WKSOapk-apLF"
      },
      "source": [
        ""
      ],
      "execution_count": 12,
      "outputs": []
    }
  ]
}